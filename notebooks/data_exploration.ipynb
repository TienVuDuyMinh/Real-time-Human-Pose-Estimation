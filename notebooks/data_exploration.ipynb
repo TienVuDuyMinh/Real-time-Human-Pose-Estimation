{
 "cells": [
  {
   "cell_type": "code",
   "execution_count": 5,
   "id": "c5138457",
   "metadata": {},
   "outputs": [
    {
     "name": "stdout",
     "output_type": "stream",
     "text": [
      "Đã định nghĩa các hàm.\n"
     ]
    }
   ],
   "source": [
    "# Ô 1: Import thư viện và Định nghĩa Hàm\n",
    "import matplotlib.pyplot as plt\n",
    "import numpy as np\n",
    "import os\n",
    "import random # Thêm thư viện random\n",
    "from tqdm import tqdm # Thêm thư viện tqdm\n",
    "\n",
    "# --- SAO CHÉP HÀM parse_skeleton_file TỪ train.py (V3) ---\n",
    "def parse_skeleton_file(filepath):\n",
    "    \"\"\"Đọc và phân tích file .skeleton (Phiên bản V3 - Bật lại Log).\"\"\"\n",
    "    try:\n",
    "        with open(filepath, 'r') as f: lines = f.readlines()\n",
    "        if not lines: tqdm.write(f\"\\n[Lỗi Parse] File {filepath} trống.\"); return None\n",
    "        try: expected_frame_count = int(lines[0].strip())\n",
    "        except (ValueError, IndexError): tqdm.write(f\"\\n[Lỗi Parse] File {filepath} không đọc được frame count.\"); return None\n",
    "        frames_data = []; line_idx = 1; valid_frames_count = 0\n",
    "        while line_idx < len(lines): # Thay vòng lặp for bằng while\n",
    "            current_frame_start_line = line_idx\n",
    "            try:\n",
    "                if line_idx >= len(lines): break\n",
    "                body_count_str = lines[line_idx].strip()\n",
    "                if not body_count_str: break\n",
    "                body_count = int(body_count_str); line_idx += 1\n",
    "                if body_count == 0:\n",
    "                     actual_frames_read += 1 # Vẫn tính là đã đọc frame header\n",
    "                     # Tìm dòng frame tiếp theo (có thể không chính xác 100% nếu file lỗi nặng)\n",
    "                     temp_idx = line_idx\n",
    "                     found_next_frame = False\n",
    "                     while temp_idx < len(lines):\n",
    "                          try: next_body_count = int(lines[temp_idx].strip()); line_idx = temp_idx; found_next_frame = True; break\n",
    "                          except ValueError: temp_idx += 1\n",
    "                     if not found_next_frame: line_idx = len(lines)\n",
    "                     continue # Chuyển sang lần lặp while tiếp theo\n",
    "                best_body_joints = None\n",
    "                for j in range(body_count):\n",
    "                    if line_idx + 1 >= len(lines): line_idx = len(lines); break\n",
    "                    try: line_idx += 1; joint_count_str = lines[line_idx].strip(); joint_count = int(joint_count_str); line_idx += 1\n",
    "                    except (ValueError, IndexError): line_idx += 25; continue # Bỏ qua body nếu lỗi header\n",
    "                    if line_idx + joint_count > len(lines): line_idx = len(lines); break # File cắt cụt\n",
    "                    current_body_joints = []; valid_body = True; k=0\n",
    "                    for k in range(joint_count):\n",
    "                        try: joint_info = lines[line_idx].strip().split(); current_body_joints.append([float(coord) for coord in joint_info[:3]]); line_idx += 1\n",
    "                        except (ValueError, IndexError): line_idx += (joint_count - k); valid_body = False; break # Lỗi khớp, bỏ qua body\n",
    "                    if j == 0 and valid_body: # Chỉ lấy body đầu tiên hợp lệ\n",
    "                        while len(current_body_joints) < 25: current_body_joints.append([0.0, 0.0, 0.0])\n",
    "                        best_body_joints = np.array(current_body_joints[:25])\n",
    "                    elif j > 0 : # Bỏ qua các body thừa hiệu quả hơn\n",
    "                         lines_to_skip_approx = 1 + 1 + joint_count # bodyInfo + jointCount + joints\n",
    "                         line_idx += lines_to_skip_approx\n",
    "                         if line_idx >= len(lines): break\n",
    "                if line_idx >= len(lines): break\n",
    "                if best_body_joints is not None: frames_data.append(best_body_joints); valid_frames_count += 1\n",
    "                actual_frames_read += 1 # Đã xử lý xong (hoặc bỏ qua) 1 frame\n",
    "            except (ValueError, IndexError, Exception) as e_frame: break # Dừng đọc nếu lỗi header frame\n",
    "        if frames_data: return np.array(frames_data)\n",
    "        else: return None\n",
    "    except Exception as e: return None\n",
    "# --- KẾT THÚC HÀM parse ---\n",
    "\n",
    "# --- HÀM plot_skeleton (Giữ nguyên) ---\n",
    "def plot_skeleton(joints_data, frame_num):\n",
    "    x = joints_data[:, 0]; y = joints_data[:, 1]\n",
    "    connections = [(0, 1), (1, 20), (20, 2), (2, 3), (20, 4), (4, 5), (5, 6), (6, 7), (7, 21), (7, 22), (20, 8), (8, 9), (9, 10), (10, 11), (11, 23), (11, 24), (0, 12), (12, 13), (13, 14), (14, 15), (0, 16), (16, 17), (17, 18), (18, 19)]\n",
    "    plt.figure(figsize=(6, 8)); plt.scatter(x, y, c='red', s=40)\n",
    "    for (start_joint, end_joint) in connections:\n",
    "        if start_joint < len(x) and end_joint < len(x): plt.plot([x[start_joint], x[end_joint]], [y[start_joint], y[end_joint]], 'b-')\n",
    "    plt.title(f\"Khung xương 2D - Frame {frame_num}\"); plt.xlabel(\"Tọa độ X\"); plt.ylabel(\"Tọa độ Y\"); plt.gca().set_aspect('equal', adjustable='box'); plt.show()\n",
    "# --- KẾT THÚC HÀM plot ---\n",
    "\n",
    "# --- HÀM chọn file ngẫu nhiên (sửa lại để tìm trong nhiều thư mục con) ---\n",
    "def get_random_skeleton_file_from_all(base_dir):\n",
    "    all_skeleton_files = []\n",
    "    try:\n",
    "        # Duyệt qua tất cả các thư mục con (lớp)\n",
    "        for class_name in os.listdir(base_dir):\n",
    "            class_dir = os.path.join(base_dir, class_name)\n",
    "            if os.path.isdir(class_dir):\n",
    "                # Lấy tất cả file .skeleton trong thư mục lớp\n",
    "                for file_name in os.listdir(class_dir):\n",
    "                    if file_name.endswith('.skeleton'):\n",
    "                        all_skeleton_files.append(os.path.join(class_dir, file_name))\n",
    "        \n",
    "        if not all_skeleton_files:\n",
    "            print(f\"Lỗi: Không tìm thấy file .skeleton nào trong '{base_dir}' hoặc các thư mục con.\")\n",
    "            return None\n",
    "        \n",
    "        # Chọn ngẫu nhiên một file từ danh sách tất cả các file\n",
    "        return random.choice(all_skeleton_files)\n",
    "\n",
    "    except FileNotFoundError:\n",
    "        print(f\"Lỗi: Không tìm thấy thư mục '{base_dir}'\")\n",
    "        return None\n",
    "    except Exception as e:\n",
    "        print(f\"Đã xảy ra lỗi không mong muốn: {e}\")\n",
    "        return None\n",
    "# --- KẾT THÚC HÀM get_random ---\n",
    "\n",
    "print(\"Đã định nghĩa các hàm.\")"
   ]
  },
  {
   "cell_type": "code",
   "execution_count": 6,
   "id": "68ad8610",
   "metadata": {},
   "outputs": [
    {
     "name": "stdout",
     "output_type": "stream",
     "text": [
      "Thư mục gốc dự án: D:\\code_etc\\Python\\_File_code\\Pose_estimation_Final\n",
      "Thư mục dữ liệu NTU đã lọc: D:\\code_etc\\Python\\_File_code\\Pose_estimation_Final\\data\\processed\\ntu_filtered_skeletons\n"
     ]
    }
   ],
   "source": [
    "# Ô 2: Thiết lập Đường dẫn\n",
    "import os\n",
    "\n",
    "# --- GÁN ĐƯỜNG DẪN TUYỆT ĐỐI ---\n",
    "PROJECT_ROOT_DIR = r\"D:\\code_etc\\Python\\_File_code\\Pose_estimation_Final\"\n",
    "# --------------------------------\n",
    "\n",
    "# Đường dẫn đến thư mục chứa dữ liệu NTU đã lọc\n",
    "FILTERED_DATA_DIR = os.path.join(PROJECT_ROOT_DIR, 'data', 'processed', 'ntu_filtered_skeletons')\n",
    "\n",
    "print(f\"Thư mục gốc dự án: {PROJECT_ROOT_DIR}\")\n",
    "print(f\"Thư mục dữ liệu NTU đã lọc: {FILTERED_DATA_DIR}\")"
   ]
  },
  {
   "cell_type": "code",
   "execution_count": 96,
   "id": "2b84204e",
   "metadata": {},
   "outputs": [
    {
     "name": "stdout",
     "output_type": "stream",
     "text": [
      "\n",
      "Đã chọn file ngẫu nhiên: D:\\code_etc\\Python\\_File_code\\Pose_estimation_Final\\data\\processed\\ntu_filtered_skeletons\\lying_down\\S007C001P026R002A043.skeleton\n",
      "File chứa 1 frame hợp lệ.\n",
      "\n",
      "Đang vẽ 1 frame ngẫu nhiên: [0]\n"
     ]
    },
    {
     "data": {
      "image/png": "[encoded data removed]",
      "text/plain": [
       "<Figure size 600x800 with 1 Axes>"
      ]
     },
     "metadata": {},
     "output_type": "display_data"
    }
   ],
   "source": [
    "# Ô 3: Chọn File Ngẫu nhiên và Xử lý\n",
    "import numpy as np # Cần numpy ở đây\n",
    "\n",
    "# 1. Chọn ngẫu nhiên một file từ thư mục dữ liệu đã lọc\n",
    "random_file_path = get_random_skeleton_file_from_all(FILTERED_DATA_DIR)\n",
    "\n",
    "if random_file_path:\n",
    "    print(f\"\\nĐã chọn file ngẫu nhiên: {random_file_path}\")\n",
    "\n",
    "    # 2. Phân tích file đã chọn\n",
    "    # Lưu ý: Hàm parse mới trả về (T, 25, 3) trực tiếp\n",
    "    all_frames_data = parse_skeleton_file(random_file_path) \n",
    "\n",
    "    if all_frames_data is not None and all_frames_data.shape[0] > 0:\n",
    "        num_frames = all_frames_data.shape[0]\n",
    "        print(f\"File chứa {num_frames} frame hợp lệ.\")\n",
    "\n",
    "        # 3. Chọn ngẫu nhiên 5 frame (hoặc ít hơn nếu file quá ngắn)\n",
    "        num_frames_to_plot = min(5, num_frames) # Lấy tối đa 5 frame\n",
    "        \n",
    "        if num_frames_to_plot > 0:\n",
    "            # Chọn ngẫu nhiên 'num_frames_to_plot' chỉ số không trùng lặp\n",
    "            random_indices = random.sample(range(num_frames), num_frames_to_plot)\n",
    "            random_indices.sort() # Sắp xếp để vẽ theo thứ tự thời gian (tùy chọn)\n",
    "            \n",
    "            print(f\"\\nĐang vẽ {num_frames_to_plot} frame ngẫu nhiên: {random_indices}\")\n",
    "            \n",
    "            # 4. Vẽ skeleton cho từng frame đã chọn\n",
    "            for frame_idx in random_indices:\n",
    "                skeleton_data = all_frames_data[frame_idx] # Lấy dữ liệu frame (25, 3)\n",
    "                if skeleton_data is not None: # Kiểm tra lại phòng trường hợp lỗi\n",
    "                    plot_skeleton(skeleton_data, frame_idx)\n",
    "                else:\n",
    "                    print(f\"Lỗi: Không lấy được dữ liệu skeleton cho frame {frame_idx}\")\n",
    "        else:\n",
    "            print(\"File không có frame hợp lệ để vẽ.\")\n",
    "\n",
    "    else:\n",
    "        print(\"\\nLỗi: Không thể đọc hoặc file skeleton rỗng/lỗi.\")\n",
    "else:\n",
    "    print(\"\\nKhông thể chọn được file skeleton ngẫu nhiên.\")"
   ]
  },
  {
   "cell_type": "code",
   "execution_count": null,
   "id": "7634860b",
   "metadata": {},
   "outputs": [],
   "source": []
  }
 ],
 "metadata": {
  "kernelspec": {
   "display_name": "pose_env",
   "language": "python",
   "name": "python3"
  },
  "language_info": {
   "codemirror_mode": {
    "name": "ipython",
    "version": 3
   },
   "file_extension": ".py",
   "mimetype": "text/x-python",
   "name": "python",
   "nbconvert_exporter": "python",
   "pygments_lexer": "ipython3",
   "version": "3.9.24"
  }
 },
 "nbformat": 4,
 "nbformat_minor": 5
}
